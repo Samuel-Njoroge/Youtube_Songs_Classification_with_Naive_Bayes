{
  "nbformat": 4,
  "nbformat_minor": 0,
  "metadata": {
    "colab": {
      "name": "Machine_Learning_with_Naive_Bayes.ipynb",
      "provenance": [],
      "collapsed_sections": [],
      "authorship_tag": "ABX9TyMwG9Svh7R5twDyjWT/evaf",
      "include_colab_link": true
    },
    "kernelspec": {
      "name": "python3",
      "display_name": "Python 3"
    },
    "language_info": {
      "name": "python"
    }
  },
  "cells": [
    {
      "cell_type": "markdown",
      "metadata": {
        "id": "view-in-github",
        "colab_type": "text"
      },
      "source": [
        "<a href=\"https://colab.research.google.com/github/Samuel-Njoroge/Youtube_Songs_Classification_with_Naive_Bayes/blob/main/Machine_Learning_with_Naive_Bayes.ipynb\" target=\"_parent\"><img src=\"https://colab.research.google.com/assets/colab-badge.svg\" alt=\"Open In Colab\"/></a>"
      ]
    },
    {
      "cell_type": "markdown",
      "source": [
        "**NAIVE BAYES CLASSIFICATION ALGORITHM.**"
      ],
      "metadata": {
        "id": "H879cwpU99jK"
      }
    },
    {
      "cell_type": "code",
      "source": [
        "#Mounting the drive.\n",
        "from google.colab import drive\n",
        "drive.mount('/content/drive/')"
      ],
      "metadata": {
        "colab": {
          "base_uri": "https://localhost:8080/"
        },
        "id": "zBeq04Ao97ra",
        "outputId": "f040d4ad-aedf-41a2-8fea-d96e1bc39492"
      },
      "execution_count": null,
      "outputs": [
        {
          "output_type": "stream",
          "name": "stdout",
          "text": [
            "Drive already mounted at /content/drive/; to attempt to forcibly remount, call drive.mount(\"/content/drive/\", force_remount=True).\n"
          ]
        }
      ]
    },
    {
      "cell_type": "code",
      "execution_count": null,
      "metadata": {
        "id": "MvntpM5I5H8F"
      },
      "outputs": [],
      "source": [
        "#Importing libraries.\n",
        "\n",
        "import numpy as np\n",
        "import pandas as pd \n",
        "import glob\n",
        "import matplotlib.pyplot as plt\n",
        "import seaborn as sns\n",
        "import sklearn\n",
        "from sklearn.feature_extraction.text import CountVectorizer\n",
        "from sklearn.model_selection import train_test_split\n",
        "from sklearn.naive_bayes import MultinomialNB, ComplementNB\n",
        "\n",
        "# Importing different metrics that would allow us to evaluate our model\n",
        "from sklearn.metrics import classification_report, ConfusionMatrixDisplay\n"
      ]
    },
    {
      "cell_type": "code",
      "source": [
        "#Loading the dataset as individual files.\n",
        "file_1 = pd.read_csv('/content/drive/MyDrive/Colab Notebooks/Naive_Bayes_ML/youtube-dataset/Youtube01.csv')\n",
        "file_2 = pd.read_csv('/content/drive/MyDrive/Colab Notebooks/Naive_Bayes_ML/youtube-dataset/Youtube02.csv')\n",
        "file_3 = pd.read_csv('/content/drive/MyDrive/Colab Notebooks/Naive_Bayes_ML/youtube-dataset/Youtube03.csv')\n",
        "file_4 = pd.read_csv('/content/drive/MyDrive/Colab Notebooks/Naive_Bayes_ML/youtube-dataset/Youtube04.csv')\n",
        "file_5 = pd.read_csv('/content/drive/MyDrive/Colab Notebooks/Naive_Bayes_ML/youtube-dataset/Youtube05.csv')"
      ],
      "metadata": {
        "id": "UBybyw5uavMm"
      },
      "execution_count": null,
      "outputs": []
    },
    {
      "cell_type": "code",
      "source": [
        "#Displaying the first file.\n",
        "file_1.head()"
      ],
      "metadata": {
        "colab": {
          "base_uri": "https://localhost:8080/",
          "height": 478
        },
        "id": "bOzwf_7ajTeK",
        "outputId": "154cf71d-35ed-4520-a193-c65ebad79dba"
      },
      "execution_count": null,
      "outputs": [
        {
          "output_type": "execute_result",
          "data": {
            "text/plain": [
              "                                    COMMENT_ID            AUTHOR  \\\n",
              "0  LZQPQhLyRh80UYxNuaDWhIGQYNQ96IuCg-AYWqNPjpU         Julius NM   \n",
              "1  LZQPQhLyRh_C2cTtd9MvFRJedxydaVW-2sNg5Diuo4A       adam riyati   \n",
              "2  LZQPQhLyRh9MSZYnf8djyk0gEF9BHDPYrrK-qCczIY8  Evgeny Murashkin   \n",
              "3          z13fwbwp1oujthgqj04chlngpvzmtt3r3dw            GsMega   \n",
              "4  LZQPQhLyRh9-wNRtlZDM90f1k0BrdVdJyN_YsaSwfxc      Jason Haddad   \n",
              "\n",
              "                  DATE                                            CONTENT  \\\n",
              "0  2013-11-07T06:20:48  Huh, anyway check out this you[tube] channel: ...   \n",
              "1  2013-11-07T12:37:15  Hey guys check out my new channel and our firs...   \n",
              "2  2013-11-08T17:34:21             just for test I have to say murdev.com   \n",
              "3  2013-11-10T16:05:38            watch?v=vtaRGgvGtWQ   Check this out .﻿   \n",
              "4  2013-11-26T02:55:11  Hey, check out my new website!! This site is a...   \n",
              "\n",
              "   CLASS  \n",
              "0      1  \n",
              "1      1  \n",
              "2      1  \n",
              "3      1  \n",
              "4      1  "
            ],
            "text/html": [
              "\n",
              "  <div id=\"df-d35c069c-4625-4e31-b5d6-e1f8a800d317\">\n",
              "    <div class=\"colab-df-container\">\n",
              "      <div>\n",
              "<style scoped>\n",
              "    .dataframe tbody tr th:only-of-type {\n",
              "        vertical-align: middle;\n",
              "    }\n",
              "\n",
              "    .dataframe tbody tr th {\n",
              "        vertical-align: top;\n",
              "    }\n",
              "\n",
              "    .dataframe thead th {\n",
              "        text-align: right;\n",
              "    }\n",
              "</style>\n",
              "<table border=\"1\" class=\"dataframe\">\n",
              "  <thead>\n",
              "    <tr style=\"text-align: right;\">\n",
              "      <th></th>\n",
              "      <th>COMMENT_ID</th>\n",
              "      <th>AUTHOR</th>\n",
              "      <th>DATE</th>\n",
              "      <th>CONTENT</th>\n",
              "      <th>CLASS</th>\n",
              "    </tr>\n",
              "  </thead>\n",
              "  <tbody>\n",
              "    <tr>\n",
              "      <th>0</th>\n",
              "      <td>LZQPQhLyRh80UYxNuaDWhIGQYNQ96IuCg-AYWqNPjpU</td>\n",
              "      <td>Julius NM</td>\n",
              "      <td>2013-11-07T06:20:48</td>\n",
              "      <td>Huh, anyway check out this you[tube] channel: ...</td>\n",
              "      <td>1</td>\n",
              "    </tr>\n",
              "    <tr>\n",
              "      <th>1</th>\n",
              "      <td>LZQPQhLyRh_C2cTtd9MvFRJedxydaVW-2sNg5Diuo4A</td>\n",
              "      <td>adam riyati</td>\n",
              "      <td>2013-11-07T12:37:15</td>\n",
              "      <td>Hey guys check out my new channel and our firs...</td>\n",
              "      <td>1</td>\n",
              "    </tr>\n",
              "    <tr>\n",
              "      <th>2</th>\n",
              "      <td>LZQPQhLyRh9MSZYnf8djyk0gEF9BHDPYrrK-qCczIY8</td>\n",
              "      <td>Evgeny Murashkin</td>\n",
              "      <td>2013-11-08T17:34:21</td>\n",
              "      <td>just for test I have to say murdev.com</td>\n",
              "      <td>1</td>\n",
              "    </tr>\n",
              "    <tr>\n",
              "      <th>3</th>\n",
              "      <td>z13fwbwp1oujthgqj04chlngpvzmtt3r3dw</td>\n",
              "      <td>GsMega</td>\n",
              "      <td>2013-11-10T16:05:38</td>\n",
              "      <td>watch?v=vtaRGgvGtWQ   Check this out .﻿</td>\n",
              "      <td>1</td>\n",
              "    </tr>\n",
              "    <tr>\n",
              "      <th>4</th>\n",
              "      <td>LZQPQhLyRh9-wNRtlZDM90f1k0BrdVdJyN_YsaSwfxc</td>\n",
              "      <td>Jason Haddad</td>\n",
              "      <td>2013-11-26T02:55:11</td>\n",
              "      <td>Hey, check out my new website!! This site is a...</td>\n",
              "      <td>1</td>\n",
              "    </tr>\n",
              "  </tbody>\n",
              "</table>\n",
              "</div>\n",
              "      <button class=\"colab-df-convert\" onclick=\"convertToInteractive('df-d35c069c-4625-4e31-b5d6-e1f8a800d317')\"\n",
              "              title=\"Convert this dataframe to an interactive table.\"\n",
              "              style=\"display:none;\">\n",
              "        \n",
              "  <svg xmlns=\"http://www.w3.org/2000/svg\" height=\"24px\"viewBox=\"0 0 24 24\"\n",
              "       width=\"24px\">\n",
              "    <path d=\"M0 0h24v24H0V0z\" fill=\"none\"/>\n",
              "    <path d=\"M18.56 5.44l.94 2.06.94-2.06 2.06-.94-2.06-.94-.94-2.06-.94 2.06-2.06.94zm-11 1L8.5 8.5l.94-2.06 2.06-.94-2.06-.94L8.5 2.5l-.94 2.06-2.06.94zm10 10l.94 2.06.94-2.06 2.06-.94-2.06-.94-.94-2.06-.94 2.06-2.06.94z\"/><path d=\"M17.41 7.96l-1.37-1.37c-.4-.4-.92-.59-1.43-.59-.52 0-1.04.2-1.43.59L10.3 9.45l-7.72 7.72c-.78.78-.78 2.05 0 2.83L4 21.41c.39.39.9.59 1.41.59.51 0 1.02-.2 1.41-.59l7.78-7.78 2.81-2.81c.8-.78.8-2.07 0-2.86zM5.41 20L4 18.59l7.72-7.72 1.47 1.35L5.41 20z\"/>\n",
              "  </svg>\n",
              "      </button>\n",
              "      \n",
              "  <style>\n",
              "    .colab-df-container {\n",
              "      display:flex;\n",
              "      flex-wrap:wrap;\n",
              "      gap: 12px;\n",
              "    }\n",
              "\n",
              "    .colab-df-convert {\n",
              "      background-color: #E8F0FE;\n",
              "      border: none;\n",
              "      border-radius: 50%;\n",
              "      cursor: pointer;\n",
              "      display: none;\n",
              "      fill: #1967D2;\n",
              "      height: 32px;\n",
              "      padding: 0 0 0 0;\n",
              "      width: 32px;\n",
              "    }\n",
              "\n",
              "    .colab-df-convert:hover {\n",
              "      background-color: #E2EBFA;\n",
              "      box-shadow: 0px 1px 2px rgba(60, 64, 67, 0.3), 0px 1px 3px 1px rgba(60, 64, 67, 0.15);\n",
              "      fill: #174EA6;\n",
              "    }\n",
              "\n",
              "    [theme=dark] .colab-df-convert {\n",
              "      background-color: #3B4455;\n",
              "      fill: #D2E3FC;\n",
              "    }\n",
              "\n",
              "    [theme=dark] .colab-df-convert:hover {\n",
              "      background-color: #434B5C;\n",
              "      box-shadow: 0px 1px 3px 1px rgba(0, 0, 0, 0.15);\n",
              "      filter: drop-shadow(0px 1px 2px rgba(0, 0, 0, 0.3));\n",
              "      fill: #FFFFFF;\n",
              "    }\n",
              "  </style>\n",
              "\n",
              "      <script>\n",
              "        const buttonEl =\n",
              "          document.querySelector('#df-d35c069c-4625-4e31-b5d6-e1f8a800d317 button.colab-df-convert');\n",
              "        buttonEl.style.display =\n",
              "          google.colab.kernel.accessAllowed ? 'block' : 'none';\n",
              "\n",
              "        async function convertToInteractive(key) {\n",
              "          const element = document.querySelector('#df-d35c069c-4625-4e31-b5d6-e1f8a800d317');\n",
              "          const dataTable =\n",
              "            await google.colab.kernel.invokeFunction('convertToInteractive',\n",
              "                                                     [key], {});\n",
              "          if (!dataTable) return;\n",
              "\n",
              "          const docLinkHtml = 'Like what you see? Visit the ' +\n",
              "            '<a target=\"_blank\" href=https://colab.research.google.com/notebooks/data_table.ipynb>data table notebook</a>'\n",
              "            + ' to learn more about interactive tables.';\n",
              "          element.innerHTML = '';\n",
              "          dataTable['output_type'] = 'display_data';\n",
              "          await google.colab.output.renderOutput(dataTable, element);\n",
              "          const docLink = document.createElement('div');\n",
              "          docLink.innerHTML = docLinkHtml;\n",
              "          element.appendChild(docLink);\n",
              "        }\n",
              "      </script>\n",
              "    </div>\n",
              "  </div>\n",
              "  "
            ]
          },
          "metadata": {},
          "execution_count": 163
        }
      ]
    },
    {
      "cell_type": "markdown",
      "source": [
        "The features COMMENT_ID ,AUTHOR and DATE are unnecessary so we drop them."
      ],
      "metadata": {
        "id": "L7SviG_79vjF"
      }
    },
    {
      "cell_type": "code",
      "source": [
        "#Joining the files to form one data frame.\n",
        "\n",
        "data =[file_1, file_2,file_3,file_4,file_5]\n",
        "youtube = pd.concat(data,axis=0, ignore_index=True)\n",
        "\n",
        "#The features COMMENT_ID , AUTHOR ,DATE \n",
        "youtube_data = youtube.drop(['COMMENT_ID','AUTHOR','DATE'] ,axis=True)"
      ],
      "metadata": {
        "id": "_oiIyvZOfj9k"
      },
      "execution_count": null,
      "outputs": []
    },
    {
      "cell_type": "code",
      "source": [
        "#Cheking for empty values.\n",
        "youtube_data.isnull().sum()\n",
        "\n",
        "#No missing values"
      ],
      "metadata": {
        "colab": {
          "base_uri": "https://localhost:8080/"
        },
        "id": "FN4RARBOgjO_",
        "outputId": "78e8dcdc-c5e3-48b4-8370-06ed2762f6a8"
      },
      "execution_count": null,
      "outputs": [
        {
          "output_type": "execute_result",
          "data": {
            "text/plain": [
              "CONTENT    0\n",
              "CLASS      0\n",
              "dtype: int64"
            ]
          },
          "metadata": {},
          "execution_count": 165
        }
      ]
    },
    {
      "cell_type": "code",
      "source": [
        "#Total values\n",
        "youtube_data['CLASS'].value_counts()"
      ],
      "metadata": {
        "colab": {
          "base_uri": "https://localhost:8080/"
        },
        "id": "w87bR7gY9uwW",
        "outputId": "2749118b-5c91-4e5f-b026-54733ef68e5c"
      },
      "execution_count": null,
      "outputs": [
        {
          "output_type": "execute_result",
          "data": {
            "text/plain": [
              "1    1004\n",
              "0     951\n",
              "Name: CLASS, dtype: int64"
            ]
          },
          "metadata": {},
          "execution_count": 166
        }
      ]
    },
    {
      "cell_type": "markdown",
      "source": [
        "**Naive Bayes classifier needs the dataset to be balanced. Classes shoud be almost equal or equal.**"
      ],
      "metadata": {
        "id": "LhF0kHyL9vXi"
      }
    },
    {
      "cell_type": "markdown",
      "source": [
        "**COUNT VECTORIZER.**"
      ],
      "metadata": {
        "id": "8E-RHAkEojhB"
      }
    },
    {
      "cell_type": "markdown",
      "source": [
        "**Sample 1**"
      ],
      "metadata": {
        "id": "aoyeDz9Vo7Te"
      }
    },
    {
      "cell_type": "code",
      "source": [
        "message_sample = ['This is a dog']\n",
        "vectorizer_sample = CountVectorizer()\n",
        "vectorizer_sample.fit(message_sample)\n",
        "vectorizer_sample.transform(message_sample).toarray()"
      ],
      "metadata": {
        "colab": {
          "base_uri": "https://localhost:8080/"
        },
        "id": "xUAE-ugb9uyl",
        "outputId": "d4547993-ab20-464f-a910-f4bb63c87c03"
      },
      "execution_count": null,
      "outputs": [
        {
          "output_type": "execute_result",
          "data": {
            "text/plain": [
              "array([[1, 1, 1]])"
            ]
          },
          "metadata": {},
          "execution_count": 167
        }
      ]
    },
    {
      "cell_type": "markdown",
      "source": [
        "1,1,1\n",
        "means the word dog has appeared 1 time.\n",
        "is - 1 time.\n",
        "dog - 1 time."
      ],
      "metadata": {
        "id": "zaeB_ST5p4dU"
      }
    },
    {
      "cell_type": "code",
      "source": [
        "vectorizer_sample.get_feature_names_out()"
      ],
      "metadata": {
        "colab": {
          "base_uri": "https://localhost:8080/"
        },
        "id": "yorIi38C9u1L",
        "outputId": "6bb6f2fe-7bd2-483d-f08e-2af05d44a177"
      },
      "execution_count": null,
      "outputs": [
        {
          "output_type": "execute_result",
          "data": {
            "text/plain": [
              "array(['dog', 'is', 'this'], dtype=object)"
            ]
          },
          "metadata": {},
          "execution_count": 168
        }
      ]
    },
    {
      "cell_type": "code",
      "source": [
        "vectorizer_sample.transform(['This is a cat']).toarray()"
      ],
      "metadata": {
        "colab": {
          "base_uri": "https://localhost:8080/"
        },
        "id": "csnAdB3Z9u3o",
        "outputId": "5fff6c52-0b3b-4edc-c8ae-6ba10131138c"
      },
      "execution_count": null,
      "outputs": [
        {
          "output_type": "execute_result",
          "data": {
            "text/plain": [
              "array([[0, 1, 1]])"
            ]
          },
          "metadata": {},
          "execution_count": 169
        }
      ]
    },
    {
      "cell_type": "markdown",
      "source": [
        "cat is not part of 'This is a dog' thus [0,]"
      ],
      "metadata": {
        "id": "KtqM6NaJqgZm"
      }
    },
    {
      "cell_type": "markdown",
      "source": [
        "Sample 2"
      ],
      "metadata": {
        "id": "yYsDA3ub9vaB"
      }
    },
    {
      "cell_type": "code",
      "source": [
        "message_sample2 = ['This is a dog and that is a dog' , 'This is a cat']\n",
        "\n",
        "vectorizer_sample2 = CountVectorizer()\n",
        "vectorizer_sample2.fit_transform(message_sample2).toarray()"
      ],
      "metadata": {
        "colab": {
          "base_uri": "https://localhost:8080/"
        },
        "id": "BgpQT9RSqqD3",
        "outputId": "3e94a775-17c0-4705-aa24-c41bd1b86bfb"
      },
      "execution_count": null,
      "outputs": [
        {
          "output_type": "execute_result",
          "data": {
            "text/plain": [
              "array([[1, 0, 2, 2, 1, 1],\n",
              "       [0, 1, 0, 1, 0, 1]])"
            ]
          },
          "metadata": {},
          "execution_count": 170
        }
      ]
    },
    {
      "cell_type": "code",
      "source": [
        "vectorizer_sample2.get_feature_names_out()"
      ],
      "metadata": {
        "colab": {
          "base_uri": "https://localhost:8080/"
        },
        "id": "R8Ty46ve9u55",
        "outputId": "244c174a-1271-46e6-90ad-f02fa7fa15e0"
      },
      "execution_count": null,
      "outputs": [
        {
          "output_type": "execute_result",
          "data": {
            "text/plain": [
              "array(['and', 'cat', 'dog', 'is', 'that', 'this'], dtype=object)"
            ]
          },
          "metadata": {},
          "execution_count": 171
        }
      ]
    },
    {
      "cell_type": "code",
      "source": [
        "vectorizer_sample2.transform(['Those are birds']).toarray()"
      ],
      "metadata": {
        "colab": {
          "base_uri": "https://localhost:8080/"
        },
        "id": "u95VUqlz9u79",
        "outputId": "2e48326f-4640-44fe-c14b-2ca23175c275"
      },
      "execution_count": null,
      "outputs": [
        {
          "output_type": "execute_result",
          "data": {
            "text/plain": [
              "array([[0, 0, 0, 0, 0, 0]])"
            ]
          },
          "metadata": {},
          "execution_count": 172
        }
      ]
    },
    {
      "cell_type": "markdown",
      "source": [
        "**Defining the inputs and the target.**"
      ],
      "metadata": {
        "id": "wBAY8DDtsu0F"
      }
    },
    {
      "cell_type": "code",
      "source": [
        "inputs = youtube_data['CONTENT']\n",
        "target = youtube_data['CLASS']"
      ],
      "metadata": {
        "id": "uxb4t-n7spsN"
      },
      "execution_count": null,
      "outputs": []
    },
    {
      "cell_type": "code",
      "source": [
        "# 0.2 means 20% of the dataset will be used for testing and random_state for selecting at random \n",
        "x_train ,x_test , y_train , y_test = train_test_split(inputs,target,test_size = 0.2 ,random_state =365 ,stratify = target)"
      ],
      "metadata": {
        "id": "UtSVnUu4spuT"
      },
      "execution_count": null,
      "outputs": []
    },
    {
      "cell_type": "markdown",
      "source": [
        ""
      ],
      "metadata": {
        "id": "imCJekVQBP-7"
      }
    },
    {
      "cell_type": "code",
      "source": [
        "#checking the size \n",
        "y_train.value_counts(normalize=True)"
      ],
      "metadata": {
        "colab": {
          "base_uri": "https://localhost:8080/"
        },
        "id": "RdDVqIf6spys",
        "outputId": "c34b13a6-2f1a-40b8-9f09-8519f75c5737"
      },
      "execution_count": null,
      "outputs": [
        {
          "output_type": "execute_result",
          "data": {
            "text/plain": [
              "1    0.513427\n",
              "0    0.486573\n",
              "Name: CLASS, dtype: float64"
            ]
          },
          "metadata": {},
          "execution_count": 175
        }
      ]
    },
    {
      "cell_type": "code",
      "source": [
        "y_test.value_counts(normalize=True)"
      ],
      "metadata": {
        "colab": {
          "base_uri": "https://localhost:8080/"
        },
        "id": "qyOD6fFy9u__",
        "outputId": "92bd3736-eb78-45df-bf20-db59f103cf84"
      },
      "execution_count": null,
      "outputs": [
        {
          "output_type": "execute_result",
          "data": {
            "text/plain": [
              "1    0.514066\n",
              "0    0.485934\n",
              "Name: CLASS, dtype: float64"
            ]
          },
          "metadata": {},
          "execution_count": 176
        }
      ]
    },
    {
      "cell_type": "markdown",
      "source": [
        "**Tokenizing the Youtube Comments.**"
      ],
      "metadata": {
        "id": "tz-gn0Tr9vcX"
      }
    },
    {
      "cell_type": "code",
      "source": [
        "vectorizer = CountVectorizer()"
      ],
      "metadata": {
        "id": "CLj5Yjvw9u97"
      },
      "execution_count": null,
      "outputs": []
    },
    {
      "cell_type": "code",
      "source": [
        "x_train_transf = vectorizer.fit_transform(x_train)\n",
        "x_test_transf = vectorizer.transform(x_test)"
      ],
      "metadata": {
        "id": "3L0w64fe9vET"
      },
      "execution_count": null,
      "outputs": []
    },
    {
      "cell_type": "code",
      "source": [
        "x_train_transf.toarray()\n",
        "#sparse matrix"
      ],
      "metadata": {
        "colab": {
          "base_uri": "https://localhost:8080/"
        },
        "id": "-okQQ6q3vKlf",
        "outputId": "5243763f-8b9e-4b6f-cd2c-48c3a976555e"
      },
      "execution_count": null,
      "outputs": [
        {
          "output_type": "execute_result",
          "data": {
            "text/plain": [
              "array([[0, 0, 0, ..., 0, 0, 0],\n",
              "       [0, 0, 0, ..., 0, 0, 0],\n",
              "       [0, 0, 0, ..., 0, 0, 0],\n",
              "       ...,\n",
              "       [0, 0, 0, ..., 0, 0, 0],\n",
              "       [0, 0, 0, ..., 0, 0, 0],\n",
              "       [0, 0, 0, ..., 0, 0, 0]])"
            ]
          },
          "metadata": {},
          "execution_count": 179
        }
      ]
    },
    {
      "cell_type": "markdown",
      "source": [
        "**Performing the Classification.**"
      ],
      "metadata": {
        "id": "wWZmg0-P9veu"
      }
    },
    {
      "cell_type": "code",
      "source": [
        "clf = MultinomialNB(class_prior= np.array([0.6,0.4]))"
      ],
      "metadata": {
        "id": "KWIeuhnwvLMJ"
      },
      "execution_count": null,
      "outputs": []
    },
    {
      "cell_type": "code",
      "source": [
        "clf.fit(x_train_transf , y_train)"
      ],
      "metadata": {
        "colab": {
          "base_uri": "https://localhost:8080/"
        },
        "id": "eu_LDMqBvLVC",
        "outputId": "e05a6fd4-0362-4c7a-f71c-58f1c443dd85"
      },
      "execution_count": null,
      "outputs": [
        {
          "output_type": "execute_result",
          "data": {
            "text/plain": [
              "MultinomialNB(class_prior=array([0.6, 0.4]))"
            ]
          },
          "metadata": {},
          "execution_count": 181
        }
      ]
    },
    {
      "cell_type": "code",
      "source": [
        "clf.get_params()"
      ],
      "metadata": {
        "colab": {
          "base_uri": "https://localhost:8080/"
        },
        "id": "2L2fNGWTvbhw",
        "outputId": "10a1526a-90b2-4a4e-84b5-f07a6d5e2d0b"
      },
      "execution_count": null,
      "outputs": [
        {
          "output_type": "execute_result",
          "data": {
            "text/plain": [
              "{'alpha': 1.0, 'class_prior': array([0.6, 0.4]), 'fit_prior': True}"
            ]
          },
          "metadata": {},
          "execution_count": 182
        }
      ]
    },
    {
      "cell_type": "markdown",
      "source": [
        "**class_prior is used to set specific values for prior probabilities.**"
      ],
      "metadata": {
        "id": "iR_x1iyd24FU"
      }
    },
    {
      "cell_type": "code",
      "source": [
        "np.exp(clf.class_log_prior_)"
      ],
      "metadata": {
        "colab": {
          "base_uri": "https://localhost:8080/"
        },
        "id": "mIdShCBKvbr1",
        "outputId": "b9a61f92-1224-47da-d20a-ae9e575e3a80"
      },
      "execution_count": null,
      "outputs": [
        {
          "output_type": "execute_result",
          "data": {
            "text/plain": [
              "array([0.6, 0.4])"
            ]
          },
          "metadata": {},
          "execution_count": 183
        }
      ]
    },
    {
      "cell_type": "markdown",
      "source": [
        "**Performing the evaluation on test dataset**"
      ],
      "metadata": {
        "id": "suVJVS8Z2Mpa"
      }
    },
    {
      "cell_type": "code",
      "source": [
        "y_test_pred = clf.predict(x_test_transf)"
      ],
      "metadata": {
        "id": "lCQCJ2RtvbwQ"
      },
      "execution_count": null,
      "outputs": []
    },
    {
      "cell_type": "code",
      "source": [
        "sns.reset_orig()\n",
        "ConfusionMatrixDisplay.from_predictions(\n",
        "    y_test , y_test_pred,\n",
        "    labels = clf.classes_,\n",
        "    cmap = 'magma')"
      ],
      "metadata": {
        "colab": {
          "base_uri": "https://localhost:8080/",
          "height": 314
        },
        "id": "HrjsrJrEvb7i",
        "outputId": "d611f74a-b110-4db5-eb35-09e1794e42e0"
      },
      "execution_count": null,
      "outputs": [
        {
          "output_type": "execute_result",
          "data": {
            "text/plain": [
              "<sklearn.metrics._plot.confusion_matrix.ConfusionMatrixDisplay at 0x7f7b04c63810>"
            ]
          },
          "metadata": {},
          "execution_count": 188
        },
        {
          "output_type": "display_data",
          "data": {
            "text/plain": [
              "<Figure size 432x288 with 2 Axes>"
            ],
            "image/png": "[encoded data removed]"
          },
          "metadata": {
            "needs_background": "light"
          }
        }
      ]
    },
    {
      "cell_type": "markdown",
      "source": [
        "**Metrics.**\n",
        "\n",
        "Precision = TP / (TP + FP)\n",
        "\n",
        "Recall = TP / (TP + FN)\n"
      ],
      "metadata": {
        "id": "D6o3qH-K5N45"
      }
    },
    {
      "cell_type": "code",
      "source": [
        "print(classification_report(y_test , y_test_pred , target_names = ['Ham' , 'Spam']))"
      ],
      "metadata": {
        "colab": {
          "base_uri": "https://localhost:8080/"
        },
        "id": "XTKK0ecH5OQ-",
        "outputId": "e165a5ed-4ac5-4c59-86b1-02b9106aa0ce"
      },
      "execution_count": null,
      "outputs": [
        {
          "output_type": "stream",
          "name": "stdout",
          "text": [
            "              precision    recall  f1-score   support\n",
            "\n",
            "         Ham       0.97      0.95      0.96       190\n",
            "        Spam       0.96      0.97      0.96       201\n",
            "\n",
            "    accuracy                           0.96       391\n",
            "   macro avg       0.96      0.96      0.96       391\n",
            "weighted avg       0.96      0.96      0.96       391\n",
            "\n"
          ]
        }
      ]
    },
    {
      "cell_type": "markdown",
      "source": [
        "**Creating probability-distribution figures.**"
      ],
      "metadata": {
        "id": "v5o1__Kw50Yy"
      }
    },
    {
      "cell_type": "code",
      "source": [
        "# For each ovservation, store its probability of being a spam. Round it to 3 digits after the decimal points.\n",
        "# These probabilities will later serve as the x-coordinates of a scatter plot\n",
        "spam_proba = clf.predict_proba(x_test_transf).round(3)[:,1];\n",
        "\n",
        "# Create a new data frame which will store the true classes, the predicted classes and the predicted probability\n",
        "# for an observation to belong to the spam class\n",
        "df_scatter = pd.DataFrame()\n",
        "\n",
        "# Create the columns of the data frame\n",
        "df_scatter['True class'] = y_test\n",
        "df_scatter['Predicted class'] = y_test_pred\n",
        "df_scatter['Predicted probability (spam)'] = spam_proba\n",
        "\n",
        "# Reset the index of the data frame, so that the indexing is sequential\n",
        "df_scatter = df_scatter.reset_index(drop = True)\n",
        "\n",
        "# Define two palettes for the different plots\n",
        "palette_0 = sns.color_palette(['#000000'])\n",
        "palette_1 = sns.color_palette(['#FF0000'])\n",
        "\n",
        "# Create two new data frames. The first one stores the samples whose true class is 0.\n",
        "# The second one stores the samples whose true class is 1.\n",
        "df_scatter_0 = df_scatter[df_scatter['True class'] == 0].reset_index(drop = True)\n",
        "df_scatter_1 = df_scatter[df_scatter['True class'] == 1].reset_index(drop = True)\n",
        "\n",
        "# Set the seaborn style\n",
        "sns.set()\n",
        "\n",
        "# Create two subfigures, so that they are arranged in 2 rows and 1 column.\n",
        "# Set the size of the figures\n",
        "fig, (ax1, ax2) = plt.subplots(2, 1, figsize=(12,5))\n",
        "fig.tight_layout(pad = 3)\n",
        "\n",
        "# Create a scatter plot.\n",
        "# On the x-axis, we have the predicted probability of a comment being a spam.\n",
        "# The y-axis takes only one value - zero. We create an array full of zeros having a length equal to \n",
        "# the number of samples whose true class is 0.\n",
        "# The 'data' parameter specifies the dataset we are drawing the columns from.\n",
        "# The 'hue' parameter specifies the feature based on which the points are going to be colored. In this case,\n",
        "# this feature has only a single class - the 0 class.\n",
        "# The 's' parameter specifies the size of the points.\n",
        "# The 'markers' parameter determines the shape of the points.\n",
        "# The 'palette' parameter specifies the colors to be used in the plot.\n",
        "# The 'style' parameter connects markers to classes.\n",
        "# We have decided to set the 'legend' parameter equal to False as we have only one class in the plot. \n",
        "# We decide to remove the ticks from the y-axis as they can be chosen arbitrarily.\n",
        "sns.scatterplot(x = 'Predicted probability (spam)', \n",
        "                y = np.zeros(df_scatter_0.shape[0]), \n",
        "                data = df_scatter_0,\n",
        "                hue = 'True class', \n",
        "                s = 50,\n",
        "                markers = ['o'],\n",
        "                palette = palette_0,\n",
        "                style = 'True class',\n",
        "                legend = False, \n",
        "                ax = ax1).set(yticklabels=[])\n",
        "\n",
        "# Set a title above the first plot.\n",
        "ax1.set_title('Probability distribution of comments belonging to the true \\'ham\\' class')\n",
        "\n",
        "# Create a red vertical dashed line passing through the point x = 0.5\n",
        "# The first parameter specifies the x-coordinate.\n",
        "# The second and third parameters specify the min and the max y-coordinates.\n",
        "# We choose a dashed linestyle.\n",
        "# We color the line in red.\n",
        "ax1.vlines(0.5, -1, 1, linestyles = 'dashed', colors = 'red');\n",
        "\n",
        "# The comments above apply to this plot. The code is adapted to the spam class\n",
        "sns.scatterplot(x = 'Predicted probability (spam)', \n",
        "                y = np.zeros(df_scatter_1.shape[0]), \n",
        "                hue = 'True class', \n",
        "                data = df_scatter_1,\n",
        "                s = 50,\n",
        "                palette = palette_1,\n",
        "                markers = ['X'],\n",
        "                style = 'True class',\n",
        "                legend = False, \n",
        "                ax = ax2).set(yticklabels=[])\n",
        "\n",
        "# Set a title above the second plot.\n",
        "ax2.set_title('Probability distribution of comments belonging to the true \\'spam\\' class')\n",
        "\n",
        "# Create a red vertical dahsed line for the second plot\n",
        "ax2.vlines(0.5, -1, 1, linestyles = 'dashed', colors = 'red')"
      ],
      "metadata": {
        "colab": {
          "base_uri": "https://localhost:8080/",
          "height": 305
        },
        "id": "CLfbHvKL5OXW",
        "outputId": "57f7d619-efe2-4623-f7c8-3841a7dd76d8"
      },
      "execution_count": null,
      "outputs": [
        {
          "output_type": "execute_result",
          "data": {
            "text/plain": [
              "<matplotlib.collections.LineCollection at 0x7f7b04b75750>"
            ]
          },
          "metadata": {},
          "execution_count": 189
        },
        {
          "output_type": "display_data",
          "data": {
            "text/plain": [
              "<Figure size 864x360 with 2 Axes>"
            ],
            "image/png": "[encoded data removed]"
          },
          "metadata": {}
        }
      ]
    },
    {
      "cell_type": "markdown",
      "source": [
        "**Making Predictions.**"
      ],
      "metadata": {
        "id": "ojEeR2un58zf"
      }
    },
    {
      "cell_type": "code",
      "source": [
        "predict_data = vectorizer.transform(['This is amazing!',\n",
        "                                     'You can win in dollars right now, just click here!!!'])"
      ],
      "metadata": {
        "id": "AT4a_t2h5Okh"
      },
      "execution_count": null,
      "outputs": []
    },
    {
      "cell_type": "code",
      "source": [
        "clf.predict(predict_data)"
      ],
      "metadata": {
        "colab": {
          "base_uri": "https://localhost:8080/"
        },
        "id": "XG8hle1h_59i",
        "outputId": "2fd362ff-6b81-48e4-8573-d370c960fe03"
      },
      "execution_count": null,
      "outputs": [
        {
          "output_type": "execute_result",
          "data": {
            "text/plain": [
              "array([0, 1])"
            ]
          },
          "metadata": {},
          "execution_count": 191
        }
      ]
    }
  ]
}